{
 "cells": [
  {
   "cell_type": "code",
   "execution_count": null,
   "metadata": {
    "tags": []
   },
   "outputs": [],
   "source": [
    "import numpy as np\n",
    "import matplotlib.pyplot as plt"
   ]
  },
  {
   "cell_type": "code",
   "execution_count": null,
   "metadata": {
    "collapsed": false,
    "jupyter": {
     "outputs_hidden": false
    },
    "pycharm": {
     "name": "#%%\n"
    }
   },
   "outputs": [],
   "source": [
    "ti_seq = np.array([*list(range(50, 400, 25)),\n",
    "                       *list(range(400, 1000, 10)),\n",
    "                       1000, 1030, 1050, 1080, 1100, 1130, 1150, 1180, 1200, 1230, 1250, 1280, 1300, 1330, 1350, 1380,\n",
    "                       1400, 1450, 1500, 1550, 1600, 1650, 1700,\n",
    "                       1800, 1900, 2000, 2100, 2200, 2300, 2500, 3000], dtype=float)"
   ]
  },
  {
   "cell_type": "code",
   "execution_count": null,
   "metadata": {
    "collapsed": false,
    "jupyter": {
     "outputs_hidden": false
    },
    "pycharm": {
     "name": "#%%\n"
    }
   },
   "outputs": [],
   "source": [
    "fn = \"1111111111_15s_ep2d_se_til_shlomi_50-3000_2m2ISO_cor_PAT2_TE22_TR30k.nii.gz.txt\"\n",
    "file = open(fn, \"r\")\n",
    "lines = file.readlines()[2:]\n",
    "sig = [float(x.split('\\t')[1]) for x in lines]"
   ]
  },
  {
   "cell_type": "code",
   "execution_count": null,
   "metadata": {
    "collapsed": false,
    "jupyter": {
     "outputs_hidden": false
    },
    "pycharm": {
     "name": "#%%\n"
    }
   },
   "outputs": [],
   "source": [
    "for i in range(11):\n",
    "    plt.plot(ti_seq, sig[105*i:105*(i+1)])\n",
    "    plt.title(\"ROI {}\".format(i))\n",
    "    plt.ylim(0, 3100)\n",
    "    # plt.savefig(\"fig{}\".format(i))\n",
    "    plt.show()"
   ]
  },
  {
   "cell_type": "code",
   "execution_count": null,
   "metadata": {},
   "outputs": [],
   "source": [
    "%pip install pandas\n",
    "import pandas as pd"
   ]
  },
  {
   "cell_type": "code",
   "execution_count": null,
   "metadata": {},
   "outputs": [],
   "source": [
    "roi = pd.read_csv(fn,sep='\\t',header=1).dropna(axis=1)"
   ]
  },
  {
   "cell_type": "code",
   "execution_count": null,
   "metadata": {},
   "outputs": [],
   "source": [
    "low = 7\n",
    "plt.figure(figsize=(15,10))\n",
    "for r in roi['ROI'].unique():\n",
    "    roir = roi.where(roi['ROI'] == r).dropna()['Mean'].values[low:]\n",
    "    roir *= 1000. / np.sum(roir)\n",
    "    plt.plot(ti_seq[low:],roir,label=r)\n",
    "plt.legend()\n",
    "plt.show()"
   ]
  },
  {
   "cell_type": "code",
   "execution_count": null,
   "metadata": {},
   "outputs": [],
   "source": []
  }
 ],
 "metadata": {
  "kernelspec": {
   "display_name": "Python 3",
   "language": "python",
   "name": "python3"
  },
  "language_info": {
   "codemirror_mode": {
    "name": "ipython",
    "version": 3
   },
   "file_extension": ".py",
   "mimetype": "text/x-python",
   "name": "python",
   "nbconvert_exporter": "python",
   "pygments_lexer": "ipython3",
   "version": "3.7.10"
  }
 },
 "nbformat": 4,
 "nbformat_minor": 4
}
